{
  "nbformat": 4,
  "nbformat_minor": 0,
  "metadata": {
    "colab": {
      "name": "Polynomial Regression",
      "provenance": [],
      "collapsed_sections": []
    },
    "kernelspec": {
      "name": "python3",
      "display_name": "Python 3"
    },
    "language_info": {
      "name": "python"
    }
  },
  "cells": [
    {
      "cell_type": "markdown",
      "metadata": {
        "id": "W1Nz7AfZwYXO"
      },
      "source": [
        "# Polynomial Regression\n",
        "we will perform a polynomial regression on a randomly generated dataset"
      ]
    },
    {
      "cell_type": "markdown",
      "metadata": {
        "id": "JZ4YIA5kx_ik"
      },
      "source": [
        "### Importing Libraries"
      ]
    },
    {
      "cell_type": "code",
      "metadata": {
        "id": "at22gwxQwP6z"
      },
      "source": [
        "import numpy as np\n",
        "import matplotlib.pyplot as plt\n",
        "import seaborn as sns\n",
        "import warnings\n",
        "warnings.filterwarnings('ignore')\n",
        "import operator\n",
        "from sklearn.linear_model import LinearRegression\n",
        "from sklearn.metrics import mean_squared_error, r2_score\n",
        "from sklearn.preprocessing import PolynomialFeatures\n",
        "\n"
      ],
      "execution_count": 29,
      "outputs": []
    },
    {
      "cell_type": "code",
      "metadata": {
        "colab": {
          "base_uri": "https://localhost:8080/",
          "height": 283
        },
        "id": "GkLez6E5yh4q",
        "outputId": "16abf568-1213-4b27-9af0-5d4aee4a0ff8"
      },
      "source": [
        "#creating random dataset\n",
        "np.random.seed(0)\n",
        "x = 2 -3 * np.random.normal(0,1,30)\n",
        "y = x - 2 * (x ** 2) + 0.5 * (x ** 3) + np.random.normal(0, 3, 30) \n",
        "plt.scatter(x,y,s=10)"
      ],
      "execution_count": 6,
      "outputs": [
        {
          "output_type": "execute_result",
          "data": {
            "text/plain": [
              "<matplotlib.collections.PathCollection at 0x7f98313c1a90>"
            ]
          },
          "metadata": {
            "tags": []
          },
          "execution_count": 6
        },
        {
          "output_type": "display_data",
          "data": {
            "image/png": "[encoded data removed]",
            "text/plain": [
              "<Figure size 432x288 with 1 Axes>"
            ]
          },
          "metadata": {
            "tags": [],
            "needs_background": "light"
          }
        }
      ]
    },
    {
      "cell_type": "markdown",
      "metadata": {
        "id": "FSHX4U9v3Q9-"
      },
      "source": [
        "Applying LinearRegression"
      ]
    },
    {
      "cell_type": "code",
      "metadata": {
        "id": "WU5r-ue_3Ewz"
      },
      "source": [
        "#transforming the data to include the other axis\n",
        "x = x[:,np.newaxis]\n",
        "y = y[:, np.newaxis]"
      ],
      "execution_count": 7,
      "outputs": []
    },
    {
      "cell_type": "code",
      "metadata": {
        "colab": {
          "base_uri": "https://localhost:8080/",
          "height": 265
        },
        "id": "CgVRCj4R30fi",
        "outputId": "e16685e2-1846-4795-ad1f-0e46e4a708b5"
      },
      "source": [
        "model = LinearRegression()\n",
        "model.fit(x,y)\n",
        "\n",
        "#predictitng\n",
        "y_pred = model.predict(x)\n",
        "\n",
        "#visualizing the predicted data\n",
        "plt.scatter(x,y,s=10)\n",
        "plt.plot(x,y_pred,c='mediumseagreen')\n",
        "plt.show()"
      ],
      "execution_count": 13,
      "outputs": [
        {
          "output_type": "display_data",
          "data": {
            "image/png": "[encoded data removed]",
            "text/plain": [
              "<Figure size 432x288 with 1 Axes>"
            ]
          },
          "metadata": {
            "tags": [],
            "needs_background": "light"
          }
        }
      ]
    },
    {
      "cell_type": "code",
      "metadata": {
        "colab": {
          "base_uri": "https://localhost:8080/"
        },
        "id": "SCe80MK248M7",
        "outputId": "579b64b5-4b8f-48ce-8449-9dbf5e7789ee"
      },
      "source": [
        "#calculating mse\n",
        "mse = np.sum((y_pred - y) ** 2)\n",
        "print(mse)"
      ],
      "execution_count": 15,
      "outputs": [
        {
          "output_type": "stream",
          "text": [
            "35537.9637251047\n"
          ],
          "name": "stdout"
        }
      ]
    },
    {
      "cell_type": "code",
      "metadata": {
        "colab": {
          "base_uri": "https://localhost:8080/"
        },
        "id": "SKg1wnnN56dJ",
        "outputId": "eb979477-0d04-4ddc-9dbb-fac2223b9ebb"
      },
      "source": [
        "rmse = np.sqrt(mean_squared_error(y,y_pred))\n",
        "r2 = r2_score(y,y_pred)\n",
        "\n",
        "#printing our values\n",
        "print('Slope: ',model.coef_)\n",
        "print('Intercept: ',model.intercept_)\n",
        "print('Root Squared Mean Error: ',rmse)\n",
        "print('R2 Score: ',r2)"
      ],
      "execution_count": 25,
      "outputs": [
        {
          "output_type": "stream",
          "text": [
            "Slope:  [[ 0.         11.49911865  1.18321728]]\n",
            "Intercept:  [-23.40833282]\n",
            "Root Squared Mean Error:  34.41800097095738\n",
            "R2 Score:  0.6680958125801718\n"
          ],
          "name": "stdout"
        }
      ]
    },
    {
      "cell_type": "markdown",
      "metadata": {
        "id": "NaMnoKSA8DCL"
      },
      "source": [
        "# Polynomial Regression"
      ]
    },
    {
      "cell_type": "markdown",
      "metadata": {
        "id": "uGJbntiz8IOG"
      },
      "source": [
        "To solve underfitting, complex equation is needed to be added\n",
        "Polynomial features from scikit-learn library will be used"
      ]
    },
    {
      "cell_type": "code",
      "metadata": {
        "id": "8vdpyKrR8daH"
      },
      "source": [
        "#degree is thenumber of features to be used in the model\n",
        "#\n",
        "polynomial_features = PolynomialFeatures(degree=2)\n",
        "x_poly = polynomial_features.fit_transform(x)\n",
        "\n",
        "#create a new instance of linear regression\n",
        "model = LinearRegression()\n",
        "model.fit(x_poly,y)\n",
        "\n",
        "#predicting\n",
        "y_poly_pred = model.predict(x_poly)"
      ],
      "execution_count": 24,
      "outputs": []
    },
    {
      "cell_type": "code",
      "metadata": {
        "colab": {
          "base_uri": "https://localhost:8080/"
        },
        "id": "VljJEP-z9tQf",
        "outputId": "4ffbe09b-bfaa-4177-af5c-a091495200dc"
      },
      "source": [
        "rmse = np.sqrt(mean_squared_error(y,y_poly_pred))\n",
        "r2 = r2_score(y,y_poly_pred)\n",
        "\n",
        "print('RMSE is: ',rmse)\n",
        "print('R2 score: ',r2)"
      ],
      "execution_count": 27,
      "outputs": [
        {
          "output_type": "stream",
          "text": [
            "RMSE is:  29.38615397597226\n",
            "R2 score:  0.7580492646555343\n"
          ],
          "name": "stdout"
        }
      ]
    },
    {
      "cell_type": "code",
      "metadata": {
        "colab": {
          "base_uri": "https://localhost:8080/",
          "height": 265
        },
        "id": "LVyMN1UM-0Fm",
        "outputId": "e25ee05a-56d5-4f34-e768-34cc5f7b03f5"
      },
      "source": [
        "#visualizing\n",
        "plt.scatter(x,y,s=10)\n",
        "\n",
        "sort_axis = operator.itemgetter(0)\n",
        "sorted_zip = sorted(zip(x,y_poly_pred),key=sort_axis)\n",
        "x, y_poly_pred = zip(*sorted_zip)\n",
        "plt.plot(x,y_poly_pred,color = 'orange')\n",
        "plt.show()"
      ],
      "execution_count": 31,
      "outputs": [
        {
          "output_type": "display_data",
          "data": {
            "image/png": "[encoded data removed]",
            "text/plain": [
              "<Figure size 432x288 with 1 Axes>"
            ]
          },
          "metadata": {
            "tags": [],
            "needs_background": "light"
          }
        }
      ]
    },
    {
      "cell_type": "markdown",
      "metadata": {
        "id": "p9Xr1LI2GF0G"
      },
      "source": [
        "## **Observation**\n",
        "\n",
        "1. The RMSE found after polynomial regression has decreased than in Linear Regression because the distance of the real points from the line of fit(predicted values) is much less than the latter\n",
        "2. Degree of the polynomial feature related to the number of features that are predicted. to perform a cuboid curve the degree would be three."
      ]
    },
    {
      "cell_type": "code",
      "metadata": {
        "id": "Ml8yDrnOFH_y"
      },
      "source": [
        ""
      ],
      "execution_count": null,
      "outputs": []
    }
  ]
}